{
 "cells": [
  {
   "cell_type": "markdown",
   "metadata": {},
   "source": [
    "### ISO 7层模型\n",
    "层|说明|数据|协议\n",
    "---|---|---|---\n",
    "物理层|通过媒介传输比特,确定机械及电气规范|比特流Bit flow|\n",
    "数据链路层|将比特组装成帧和点到点的传递|帧Frame|\n",
    "网络层|负责数据包从源到宿的传递和网际互连|包Packet(分组,数据报)|IP,ICMP,ARP,RARP\n",
    "传输层|提供端到端的可靠报文传递和错误恢复|段Segment,报文|UDP,TCP \n",
    "会话层|建立、管理和终止会话|会话协议数据单元SPDU|\n",
    "表示层|对数据进行翻译、加密和压缩|表示协议数据单元PPDU|\n",
    "应用层|允许访问OSI环境的手段|应用协议数据单元APDU|FTP,Telenet,DNS,SMTP,POP3"
   ]
  },
  {
   "cell_type": "markdown",
   "metadata": {},
   "source": [
    "协议|说明\n",
    "--|--\n",
    "FTP (File Transfer Protocol)|用于Internet上的控制文件的双向传输,也是一个应用程序\n",
    "ICMP (Internet Control Message Protocol)|TCP/IP协议族 用于在IP主机、路由器之间传递控制消息\n",
    "Telnet | TCP/IP协议族 Internet远程登陆服务的标准协议和主要方式\n",
    "SMTP (Simple Mail Transfer Protocol)|TCP/IP协议簇 它是一组用于由源地址到目的地址传送邮件的规则，由它来控制信件的中转方式\n",
    "DNS (omain Name System)|因特网上作为域名和IP地址相互映射的一个分布式数据库，能够使用户更方便的访问互联网，而不用去记住能够被机器直接读取的IP数串。通过主机名，最终得到该主机名对应的IP地址的过程叫做域名"
   ]
  },
  {
   "cell_type": "markdown",
   "metadata": {},
   "source": [
    "简写|全称|协议|端口\n",
    "---|---|---|---\n",
    "SMTP|简单邮件传输协议|TCP|25\n",
    "SNMP|简单网络管理协议|UDP|161"
   ]
  },
  {
   "cell_type": "markdown",
   "metadata": {},
   "source": [
    "排序算法|最差时间分析|平均时间复杂度|稳定度|空间复杂度\n",
    "---|---|---|---|---\n",
    "冒泡排序|O(n2)|O(n2)|稳定|O(1)\n",
    "插入排序|O(n2)|O(n2)|稳定|O(1)\n",
    "选择排序|O(n2)|O(n2)|稳定|O(1)\n",
    "二叉树排序|O(n2)|O(n*log2n)|不稳定|O(n)\n",
    "堆排序|O(n*log2n)|O(n*log2n)|不稳定|O(1)\n",
    "希尔排序|O(n1.3)|O(n2)|不稳定|O(1)\n",
    "快速排序|O(n2)|O(n*log2n)|不稳定|O(log2n)~O(n)"
   ]
  },
  {
   "cell_type": "markdown",
   "metadata": {},
   "source": [
    "#### 浏览器和服务器在基于https进行请求链接到数据传输过程中，用到了如下哪些技术？\n",
    "   - 非对称加密技术\n",
    "   - 对称加密技术\n",
    "   - 散列（哈希）算法\n",
    "   - 数字证书\n",
    "\n",
    "#### 机器学习中L1正则化和L2正则化的区别是？\n",
    "   - 使用L1可以得到稀疏的权值\n",
    "   - 使用L2可以得到平滑的权值"
   ]
  },
  {
   "cell_type": "markdown",
   "metadata": {},
   "source": [
    "### 一些Web工具\n",
    "名称|功能\n",
    "---|---\n",
    "wvs|自动化的web应用程序安全测试工具，可以扫描任何可以通过web访问和遵循http/https访问的站点和应用程序。 \n",
    "snifft|网络监听软件，主要针对tcp/ip协议的不安全对运行该协议的机器进行监听 \n",
    "wireshark|网络封包分析软件，功能抓取网络封包，然后尽可能详尽的分析网络封包 \n",
    "tcpdumptak|可以将网络中所有传送的数据包抓取下来，进行详尽的分析，主要针对的是网络层，端口，主机，协议，并且提供and，or，not等命令来进行处理，从而剔除没有用的信息。"
   ]
  },
  {
   "cell_type": "markdown",
   "metadata": {},
   "source": [
    "### C/C++流程\n",
    "1. 编辑：也就是编写C/C++程序。\n",
    "2. 预处理：相当于根据预处理指令组装新的C/C++程序。经过预处理，会产生一个没有宏定义，没有条件编译指令，没有特殊符号的输出文件，这个文件的含义同原本的文件无异，只是内容上有所不同。\n",
    "3. 编译：将预处理完的文件进行一系列词法分析、语法分析、语义分析及优化后，产生相应的汇编代码文件。\n",
    "4. 链接：通过链接器将一个个目标文件（或许还会有库文件）链接在一起生成一个完整的可执行程序。 链接程序的主要工作就是将有关的目标文件彼此相连接，也就是将在一个文件中引用的符号同该符号在另外一个文件中的定义连接起来，使得所有的这些目标文件成为一个能够被操作系统装入执行的统一整体。在此过程中会发现被调用的函数未被定义。"
   ]
  },
  {
   "cell_type": "markdown",
   "metadata": {},
   "source": [
    "### SQL语句的三个大类\n",
    "大类|功能\n",
    "--|--\n",
    "DML data manipulation language  数据操纵语言|SELECT,UPDATE,INSERT,DELETE\n",
    "DDL data definition language  数据库定义语言|CREATE,ALTER,DROP等 DDL主要是用在定义或改变表的结构，数据类型，表之间的链接和约束等初始化工作上\n",
    "DCL Data Control Language  数据库控制语言|GRANT,DENY,REVOKE等 用来设置或更改数据库用户或角色权限的语句"
   ]
  },
  {
   "cell_type": "code",
   "execution_count": null,
   "metadata": {
    "collapsed": true
   },
   "outputs": [],
   "source": []
  }
 ],
 "metadata": {
  "kernelspec": {
   "display_name": "Python 3",
   "language": "python",
   "name": "python3"
  },
  "language_info": {
   "codemirror_mode": {
    "name": "ipython",
    "version": 3
   },
   "file_extension": ".py",
   "mimetype": "text/x-python",
   "name": "python",
   "nbconvert_exporter": "python",
   "pygments_lexer": "ipython3",
   "version": "3.6.3"
  }
 },
 "nbformat": 4,
 "nbformat_minor": 2
}
